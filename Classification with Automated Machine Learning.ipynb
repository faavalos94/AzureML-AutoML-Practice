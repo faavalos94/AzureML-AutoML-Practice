{
 "cells": [
  {
   "cell_type": "code",
   "execution_count": 14,
   "id": "1bdcad5c-da2d-4959-91a1-4560d102efc7",
   "metadata": {},
   "outputs": [
    {
     "name": "stdout",
     "output_type": "stream",
     "text": [
      "\u001b[33mWARNING: Package(s) not found: azure-ai-ml\u001b[0m\u001b[33m\n",
      "\u001b[0mNote: you may need to restart the kernel to use updated packages.\n"
     ]
    }
   ],
   "source": [
    "pip show azure-ai-ml"
   ]
  },
  {
   "cell_type": "code",
   "execution_count": null,
   "id": "2f30e20c-9f78-40b0-8377-3868bc045f78",
   "metadata": {},
   "outputs": [],
   "source": [
    "# Connect to workspace\n",
    "from azure.identity import DefaultAzureCredential, InteractiveBrowserCredential\n",
    "from azure.ai.ml import MLClient\n",
    "\n",
    "try:\n",
    "    credential = DefaultAzureCredential()\n",
    "    # Check if given credential can get token successfully\n",
    "    credential.get_token(\"https://management.azure.com/.default\")\n",
    "except Exception as ex:\n",
    "    # Fall back to InteractiveBrowserCredential in case DefaultAzureCredential doesn't work\n",
    "    credential = InteractiveBrowserCredential()"
   ]
  },
  {
   "cell_type": "code",
   "execution_count": null,
   "id": "5717bf8d-ec7c-4746-b92f-827f78aeacff",
   "metadata": {},
   "outputs": [],
   "source": [
    "# Get handle to workspace\n",
    "ml_client = MLClient.from_config(credential=credential)"
   ]
  },
  {
   "cell_type": "code",
   "execution_count": null,
   "id": "e89f41f7-d6c6-411a-a59d-62b739536965",
   "metadata": {},
   "outputs": [],
   "source": [
    "# Prepare data\n",
    "from azure.ai.ml.constants import AssetTypes\n",
    "from azure.ai.ml import Input\n",
    "\n",
    "# Creates a dataset based on the files in the local data folder\n",
    "my_training_data_input = Input(type=AssetTypes.URI_FILE, path=\"azureml:tickets-data:1\")"
   ]
  },
  {
   "cell_type": "code",
   "execution_count": null,
   "id": "eb0defce-10b0-45cd-a4c5-50d282bd5452",
   "metadata": {},
   "outputs": [],
   "source": [
    "# Configure automated machine learning job\n",
    "from azure.ai.ml import automl\n",
    "\n",
    "# Configure the classification job\n",
    "classification_job = automl.classification(\n",
    "    compute=\"aml-cluster\",\n",
    "    experiment_name=\"auto-ml-class-dev\",\n",
    "    training_data=my_training_data_input,\n",
    "    target_column=\"label\",\n",
    "    primary_metric=\"accuracy\",\n",
    "    n_cross_validations=5,\n",
    ")\n",
    "\n",
    "# Set the limits (optional)\n",
    "classification_job.set_limits(\n",
    "    timeout_minutes=60,\n",
    "    trial_timeout_minutes=20,\n",
    "    max_trials=5,\n",
    "    enable_early_termination=True,\n",
    ")\n",
    "\n",
    "# Set the training properties (optional)\n",
    "classification_job.set_training(\n",
    "    blocked_training_algorithms=[\"LogisticRegression\"],\n",
    "    enable_onnx_compatible_models=True,\n",
    ")"
   ]
  },
  {
   "cell_type": "code",
   "execution_count": null,
   "id": "bc9042ad-635e-4715-a98c-53cd8d3c572e",
   "metadata": {},
   "outputs": [],
   "source": [
    "# Run an automated machine learning job\n",
    "# Submit the AutoML job\n",
    "returned_job = ml_client.jobs.create_or_update(\n",
    "    classification_job\n",
    ")\n",
    "\n",
    "# Submit the job to the backend\n",
    "aml_url = returned_job.studio_url\n",
    "print(\"Monitor your job at: \", aml_url)"
   ]
  },
  {
   "cell_type": "code",
   "execution_count": null,
   "id": "ed23051c-0fde-47bd-82cd-42d077cd6a7f",
   "metadata": {},
   "outputs": [],
   "source": []
  }
 ],
 "metadata": {
  "kernelspec": {
   "display_name": "Python 3 (ipykernel)",
   "language": "python",
   "name": "python3"
  },
  "language_info": {
   "codemirror_mode": {
    "name": "ipython",
    "version": 3
   },
   "file_extension": ".py",
   "mimetype": "text/x-python",
   "name": "python",
   "nbconvert_exporter": "python",
   "pygments_lexer": "ipython3",
   "version": "3.11.10"
  }
 },
 "nbformat": 4,
 "nbformat_minor": 5
}
